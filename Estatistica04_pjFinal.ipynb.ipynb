{
  "nbformat": 4,
  "nbformat_minor": 0,
  "metadata": {
    "colab": {
      "name": "Correlaç╞o_e_Regress╞o.ipynb",
      "provenance": []
    },
    "kernelspec": {
      "display_name": "Python 3",
      "language": "python",
      "name": "python3"
    },
    "language_info": {
      "codemirror_mode": {
        "name": "ipython",
        "version": 3
      },
      "file_extension": ".py",
      "mimetype": "text/x-python",
      "name": "python",
      "nbconvert_exporter": "python",
      "pygments_lexer": "ipython3",
      "version": "3.6.5"
    }
  },
  "cells": [
    {
      "cell_type": "markdown",
      "metadata": {
        "id": "WvMflodMjQKe"
      },
      "source": [
        "# CURSO DE ESTATÍSTICA - PARTE 4\n",
        "***\n",
        "\n",
        "## Trabalho sobre correlação e regressão\n",
        "\n",
        "Utilizando os conhecimentos adquiridos em nosso treinamento realize a análise de regressão proposta abaixo.\n",
        "\n",
        "Siga o roteiro proposto e vá completando as células vazias."
      ]
    },
    {
      "cell_type": "markdown",
      "metadata": {
        "id": "cVgsZ_E3jQKg"
      },
      "source": [
        "# DATASET DO PROJETO\n",
        "***"
      ]
    },
    {
      "cell_type": "markdown",
      "metadata": {
        "id": "Ws2zOjRQSAMx"
      },
      "source": [
        "### Fonte: https://www.kaggle.com/dongeorge/beer-consumption-sao-paulo\n",
        "\n",
        "### Descrição:\n",
        "A cerveja é uma das bebidas mais democráticas e consumidas no mundo. Não sem razão, é perfeito para quase todas as situações, desde o happy hour até grandes festas de casamento.\n",
        "\n",
        "Os dados (amostra) foram coletados em São Paulo - Brasil, em uma área universitária, onde existem algumas festas com grupos de alunos de 18 a 28 anos de idade (média).\n",
        "\n",
        "### Dados:\n",
        "- **temp_media** - Temperatura Média (°C)\n",
        "- **consumo** - Consumo de Cerveja (litros)\n"
      ]
    },
    {
      "cell_type": "markdown",
      "metadata": {
        "id": "ZIqLOffNTg1Y"
      },
      "source": [
        "---"
      ]
    },
    {
      "cell_type": "markdown",
      "metadata": {
        "id": "_mFnZ15pcmu1"
      },
      "source": [
        "### Solução do problema com dependência do statsmodels"
      ]
    },
    {
      "cell_type": "markdown",
      "metadata": {
        "id": "8Rw70V6ojQKk"
      },
      "source": [
        "### Utilize a célula abaixo para importar as biblioteca que precisar para executar as tarefas\n",
        "#### **Sugestões: pandas, numpy, scipy, statsmodels**"
      ]
    },
    {
      "cell_type": "code",
      "metadata": {
        "id": "fcTgimHBybMz",
        "colab": {
          "base_uri": "https://localhost:8080/"
        },
        "outputId": "e92eff69-2c34-4ab8-d76a-031ae7eab9e8"
      },
      "source": [
        "import pandas as pd\n",
        "import numpy as np \n",
        "import seaborn as sns\n",
        "import statsmodels.api as sm"
      ],
      "execution_count": 2,
      "outputs": [
        {
          "output_type": "stream",
          "name": "stderr",
          "text": [
            "/usr/local/lib/python3.7/dist-packages/statsmodels/tools/_testing.py:19: FutureWarning: pandas.util.testing is deprecated. Use the functions in the public API at pandas.testing instead.\n",
            "  import pandas.util.testing as tm\n"
          ]
        }
      ]
    },
    {
      "cell_type": "markdown",
      "metadata": {
        "id": "aMnktfVNSAM6"
      },
      "source": [
        "### Importe o dataset"
      ]
    },
    {
      "cell_type": "code",
      "metadata": {
        "id": "MCvj5wZESAM7"
      },
      "source": [
        "dados = pd.read_csv('dados_projeto.csv', sep= ';')"
      ],
      "execution_count": 3,
      "outputs": []
    },
    {
      "cell_type": "markdown",
      "metadata": {
        "id": "Oq3CKHCmTg1j"
      },
      "source": [
        "### Visualize o conteúdo do DataFrame"
      ]
    },
    {
      "cell_type": "code",
      "metadata": {
        "colab": {
          "base_uri": "https://localhost:8080/",
          "height": 200
        },
        "id": "ZJhWgKumSAM-",
        "outputId": "01b98146-9ac0-407f-98c9-819b1be2fcdd"
      },
      "source": [
        "dados.head()"
      ],
      "execution_count": 4,
      "outputs": [
        {
          "output_type": "execute_result",
          "data": {
            "text/html": [
              "<div>\n",
              "<style scoped>\n",
              "    .dataframe tbody tr th:only-of-type {\n",
              "        vertical-align: middle;\n",
              "    }\n",
              "\n",
              "    .dataframe tbody tr th {\n",
              "        vertical-align: top;\n",
              "    }\n",
              "\n",
              "    .dataframe thead th {\n",
              "        text-align: right;\n",
              "    }\n",
              "</style>\n",
              "<table border=\"1\" class=\"dataframe\">\n",
              "  <thead>\n",
              "    <tr style=\"text-align: right;\">\n",
              "      <th></th>\n",
              "      <th>Y</th>\n",
              "      <th>X</th>\n",
              "    </tr>\n",
              "  </thead>\n",
              "  <tbody>\n",
              "    <tr>\n",
              "      <th>0</th>\n",
              "      <td>25461</td>\n",
              "      <td>27.30</td>\n",
              "    </tr>\n",
              "    <tr>\n",
              "      <th>1</th>\n",
              "      <td>28972</td>\n",
              "      <td>27.02</td>\n",
              "    </tr>\n",
              "    <tr>\n",
              "      <th>2</th>\n",
              "      <td>30814</td>\n",
              "      <td>24.82</td>\n",
              "    </tr>\n",
              "    <tr>\n",
              "      <th>3</th>\n",
              "      <td>29799</td>\n",
              "      <td>23.98</td>\n",
              "    </tr>\n",
              "    <tr>\n",
              "      <th>4</th>\n",
              "      <td>28900</td>\n",
              "      <td>23.82</td>\n",
              "    </tr>\n",
              "  </tbody>\n",
              "</table>\n",
              "</div>"
            ],
            "text/plain": [
              "       Y      X\n",
              "0  25461  27.30\n",
              "1  28972  27.02\n",
              "2  30814  24.82\n",
              "3  29799  23.98\n",
              "4  28900  23.82"
            ]
          },
          "metadata": {},
          "execution_count": 4
        }
      ]
    },
    {
      "cell_type": "code",
      "metadata": {
        "colab": {
          "base_uri": "https://localhost:8080/"
        },
        "id": "GsC_WhLFjQKq",
        "scrolled": true,
        "outputId": "55eeab99-312e-44f7-c8f7-7c962f4cbbe0"
      },
      "source": [
        "dados.shape"
      ],
      "execution_count": 5,
      "outputs": [
        {
          "output_type": "execute_result",
          "data": {
            "text/plain": [
              "(365, 2)"
            ]
          },
          "metadata": {},
          "execution_count": 5
        }
      ]
    },
    {
      "cell_type": "markdown",
      "metadata": {
        "id": "xzGuwM4xpslc"
      },
      "source": [
        "### Obtenha e avalie as estatísticas descritivas dos dados"
      ]
    },
    {
      "cell_type": "code",
      "metadata": {
        "colab": {
          "base_uri": "https://localhost:8080/",
          "height": 290
        },
        "id": "nuNSrzfYpsld",
        "scrolled": true,
        "outputId": "af425362-7dfe-4667-8c36-b421c848f0eb"
      },
      "source": [
        "dados.describe()"
      ],
      "execution_count": 6,
      "outputs": [
        {
          "output_type": "execute_result",
          "data": {
            "text/html": [
              "<div>\n",
              "<style scoped>\n",
              "    .dataframe tbody tr th:only-of-type {\n",
              "        vertical-align: middle;\n",
              "    }\n",
              "\n",
              "    .dataframe tbody tr th {\n",
              "        vertical-align: top;\n",
              "    }\n",
              "\n",
              "    .dataframe thead th {\n",
              "        text-align: right;\n",
              "    }\n",
              "</style>\n",
              "<table border=\"1\" class=\"dataframe\">\n",
              "  <thead>\n",
              "    <tr style=\"text-align: right;\">\n",
              "      <th></th>\n",
              "      <th>Y</th>\n",
              "      <th>X</th>\n",
              "    </tr>\n",
              "  </thead>\n",
              "  <tbody>\n",
              "    <tr>\n",
              "      <th>count</th>\n",
              "      <td>365.000000</td>\n",
              "      <td>365.000000</td>\n",
              "    </tr>\n",
              "    <tr>\n",
              "      <th>mean</th>\n",
              "      <td>25401.367123</td>\n",
              "      <td>21.226356</td>\n",
              "    </tr>\n",
              "    <tr>\n",
              "      <th>std</th>\n",
              "      <td>4399.142703</td>\n",
              "      <td>3.180108</td>\n",
              "    </tr>\n",
              "    <tr>\n",
              "      <th>min</th>\n",
              "      <td>14343.000000</td>\n",
              "      <td>12.900000</td>\n",
              "    </tr>\n",
              "    <tr>\n",
              "      <th>25%</th>\n",
              "      <td>22008.000000</td>\n",
              "      <td>19.020000</td>\n",
              "    </tr>\n",
              "    <tr>\n",
              "      <th>50%</th>\n",
              "      <td>24867.000000</td>\n",
              "      <td>21.380000</td>\n",
              "    </tr>\n",
              "    <tr>\n",
              "      <th>75%</th>\n",
              "      <td>28631.000000</td>\n",
              "      <td>23.280000</td>\n",
              "    </tr>\n",
              "    <tr>\n",
              "      <th>max</th>\n",
              "      <td>37937.000000</td>\n",
              "      <td>28.860000</td>\n",
              "    </tr>\n",
              "  </tbody>\n",
              "</table>\n",
              "</div>"
            ],
            "text/plain": [
              "                  Y           X\n",
              "count    365.000000  365.000000\n",
              "mean   25401.367123   21.226356\n",
              "std     4399.142703    3.180108\n",
              "min    14343.000000   12.900000\n",
              "25%    22008.000000   19.020000\n",
              "50%    24867.000000   21.380000\n",
              "75%    28631.000000   23.280000\n",
              "max    37937.000000   28.860000"
            ]
          },
          "metadata": {},
          "execution_count": 6
        }
      ]
    },
    {
      "cell_type": "markdown",
      "metadata": {
        "id": "LczcEkfvSANG"
      },
      "source": [
        "### Análise gráfica\n",
        "### Construa um box plot para cada variável do dataset"
      ]
    },
    {
      "cell_type": "code",
      "metadata": {
        "colab": {
          "base_uri": "https://localhost:8080/",
          "height": 608
        },
        "id": "C8jMWsOQSANH",
        "outputId": "ef94ce8b-1b01-4980-a878-8ef69c95ffb3"
      },
      "source": [
        "dados.boxplot(column=['Y'], figsize = (10,10))"
      ],
      "execution_count": 7,
      "outputs": [
        {
          "output_type": "execute_result",
          "data": {
            "text/plain": [
              "<matplotlib.axes._subplots.AxesSubplot at 0x7f0104b4eb90>"
            ]
          },
          "metadata": {},
          "execution_count": 7
        },
        {
          "output_type": "display_data",
          "data": {
            "image/png": "[encoded data removed]",
            "text/plain": [
              "<Figure size 720x720 with 1 Axes>"
            ]
          },
          "metadata": {
            "needs_background": "light"
          }
        }
      ]
    },
    {
      "cell_type": "code",
      "metadata": {
        "colab": {
          "base_uri": "https://localhost:8080/",
          "height": 608
        },
        "id": "W-W9IOs1psle",
        "scrolled": false,
        "outputId": "71258047-0408-4c00-f9a8-5e8f367f9e05"
      },
      "source": [
        "dados.boxplot(column=['X'], figsize = (10,10))"
      ],
      "execution_count": 8,
      "outputs": [
        {
          "output_type": "execute_result",
          "data": {
            "text/plain": [
              "<matplotlib.axes._subplots.AxesSubplot at 0x7f0104ad1790>"
            ]
          },
          "metadata": {},
          "execution_count": 8
        },
        {
          "output_type": "display_data",
          "data": {
            "image/png": "[encoded data removed]",
            "text/plain": [
              "<Figure size 720x720 with 1 Axes>"
            ]
          },
          "metadata": {
            "needs_background": "light"
          }
        }
      ]
    },
    {
      "cell_type": "markdown",
      "metadata": {
        "id": "50QnbpklSANL"
      },
      "source": [
        "### Identifique se existe uma relação linear entre as variáveis $Y$ e $X$\n",
        "### **Utilizando o método gráfico**"
      ]
    },
    {
      "cell_type": "code",
      "metadata": {
        "colab": {
          "base_uri": "https://localhost:8080/",
          "height": 463
        },
        "id": "wqXot5qXSANM",
        "outputId": "949aadf3-7142-4834-e486-837c995e8169"
      },
      "source": [
        "ax = sns.lmplot(x ='X', y='Y', data=dados)\n",
        "ax.fig.set_size_inches(12, 6)\n",
        "ax"
      ],
      "execution_count": 9,
      "outputs": [
        {
          "output_type": "execute_result",
          "data": {
            "text/plain": [
              "<seaborn.axisgrid.FacetGrid at 0x7f01045e0150>"
            ]
          },
          "metadata": {},
          "execution_count": 9
        },
        {
          "output_type": "display_data",
          "data": {
            "image/png": "[encoded data removed]",
            "text/plain": [
              "<Figure size 864x432 with 1 Axes>"
            ]
          },
          "metadata": {
            "needs_background": "light"
          }
        }
      ]
    },
    {
      "cell_type": "markdown",
      "metadata": {
        "id": "2_anjW2BSANO"
      },
      "source": [
        "### **Utilizando a matriz de correlação**"
      ]
    },
    {
      "cell_type": "code",
      "metadata": {
        "colab": {
          "base_uri": "https://localhost:8080/",
          "height": 108
        },
        "id": "i3km2z7xSANP",
        "outputId": "0a7c9902-1861-4811-9607-e3641e2d6386"
      },
      "source": [
        "dados.corr()"
      ],
      "execution_count": 10,
      "outputs": [
        {
          "output_type": "execute_result",
          "data": {
            "text/html": [
              "<div>\n",
              "<style scoped>\n",
              "    .dataframe tbody tr th:only-of-type {\n",
              "        vertical-align: middle;\n",
              "    }\n",
              "\n",
              "    .dataframe tbody tr th {\n",
              "        vertical-align: top;\n",
              "    }\n",
              "\n",
              "    .dataframe thead th {\n",
              "        text-align: right;\n",
              "    }\n",
              "</style>\n",
              "<table border=\"1\" class=\"dataframe\">\n",
              "  <thead>\n",
              "    <tr style=\"text-align: right;\">\n",
              "      <th></th>\n",
              "      <th>Y</th>\n",
              "      <th>X</th>\n",
              "    </tr>\n",
              "  </thead>\n",
              "  <tbody>\n",
              "    <tr>\n",
              "      <th>Y</th>\n",
              "      <td>1.000000</td>\n",
              "      <td>0.574615</td>\n",
              "    </tr>\n",
              "    <tr>\n",
              "      <th>X</th>\n",
              "      <td>0.574615</td>\n",
              "      <td>1.000000</td>\n",
              "    </tr>\n",
              "  </tbody>\n",
              "</table>\n",
              "</div>"
            ],
            "text/plain": [
              "          Y         X\n",
              "Y  1.000000  0.574615\n",
              "X  0.574615  1.000000"
            ]
          },
          "metadata": {},
          "execution_count": 10
        }
      ]
    },
    {
      "cell_type": "markdown",
      "metadata": {
        "id": "g2jJuDkcSANR"
      },
      "source": [
        "### Avalie os resultados acima:\n",
        "\n",
        "É possível afirmar que existe uma relação linear entre as variáveis?\n",
        "\n",
        "Resp.: SIM\n",
        "\n",
        "É possível quantificar a intensidade dessa relação?\n",
        "\n",
        "Resp.: SIM\n",
        "\n",
        "É possível afirmar que existe uma relação de causalidade entre $Y$ e $X$ a partir dos resultados da matriz de correlação?\n",
        "\n",
        "Resp.: NÃO"
      ]
    },
    {
      "cell_type": "markdown",
      "metadata": {
        "id": "gEsWvZadSANR"
      },
      "source": [
        "### Prepare os dados para estimar um modelo de regressão linear simples"
      ]
    },
    {
      "cell_type": "code",
      "metadata": {
        "id": "GNfHZd61SANS"
      },
      "source": [
        "Y = dados.Y\n",
        "X = sm.add_constant(dados.X)\n"
      ],
      "execution_count": 11,
      "outputs": []
    },
    {
      "cell_type": "markdown",
      "metadata": {
        "id": "Nv3vKKw1SANU"
      },
      "source": [
        "### Estime o modelo de regressão linear simples"
      ]
    },
    {
      "cell_type": "code",
      "metadata": {
        "id": "cClocJuhSANV"
      },
      "source": [
        "regressao = sm.OLS(Y, X).fit()"
      ],
      "execution_count": 12,
      "outputs": []
    },
    {
      "cell_type": "markdown",
      "metadata": {
        "id": "m_ZuWl06SANX"
      },
      "source": [
        "### Visualize o resultado da regressão"
      ]
    },
    {
      "cell_type": "code",
      "metadata": {
        "colab": {
          "base_uri": "https://localhost:8080/"
        },
        "id": "VqibulU4SANX",
        "outputId": "501b879a-8116-4b2f-ea7b-5e0ff9d478a9"
      },
      "source": [
        "print(regressao.summary())"
      ],
      "execution_count": 13,
      "outputs": [
        {
          "output_type": "stream",
          "name": "stdout",
          "text": [
            "                            OLS Regression Results                            \n",
            "==============================================================================\n",
            "Dep. Variable:                      Y   R-squared:                       0.330\n",
            "Model:                            OLS   Adj. R-squared:                  0.328\n",
            "Method:                 Least Squares   F-statistic:                     178.9\n",
            "Date:                Wed, 08 Sep 2021   Prob (F-statistic):           1.87e-33\n",
            "Time:                        21:40:25   Log-Likelihood:                -3506.3\n",
            "No. Observations:                 365   AIC:                             7017.\n",
            "Df Residuals:                     363   BIC:                             7024.\n",
            "Df Model:                           1                                         \n",
            "Covariance Type:            nonrobust                                         \n",
            "==============================================================================\n",
            "                 coef    std err          t      P>|t|      [0.025      0.975]\n",
            "------------------------------------------------------------------------------\n",
            "const       8528.9073   1275.363      6.687      0.000    6020.880     1.1e+04\n",
            "X            794.8825     59.423     13.377      0.000     678.027     911.738\n",
            "==============================================================================\n",
            "Omnibus:                       11.300   Durbin-Watson:                   1.623\n",
            "Prob(Omnibus):                  0.004   Jarque-Bera (JB):                9.673\n",
            "Skew:                           0.324   Prob(JB):                      0.00793\n",
            "Kurtosis:                       2.534   Cond. No.                         145.\n",
            "==============================================================================\n",
            "\n",
            "Warnings:\n",
            "[1] Standard Errors assume that the covariance matrix of the errors is correctly specified.\n"
          ]
        }
      ]
    },
    {
      "cell_type": "markdown",
      "metadata": {
        "id": "a0am29ySSANZ"
      },
      "source": [
        "### Obtenha o $Y$ previsto"
      ]
    },
    {
      "cell_type": "code",
      "metadata": {
        "colab": {
          "base_uri": "https://localhost:8080/",
          "height": 200
        },
        "id": "UY1SAjYvSANa",
        "scrolled": true,
        "outputId": "ffe5aa31-2630-47bf-953c-e4cef9499910"
      },
      "source": [
        "dados['Y_previsto'] = regressao.predict()\n",
        "dados.head()"
      ],
      "execution_count": 14,
      "outputs": [
        {
          "output_type": "execute_result",
          "data": {
            "text/html": [
              "<div>\n",
              "<style scoped>\n",
              "    .dataframe tbody tr th:only-of-type {\n",
              "        vertical-align: middle;\n",
              "    }\n",
              "\n",
              "    .dataframe tbody tr th {\n",
              "        vertical-align: top;\n",
              "    }\n",
              "\n",
              "    .dataframe thead th {\n",
              "        text-align: right;\n",
              "    }\n",
              "</style>\n",
              "<table border=\"1\" class=\"dataframe\">\n",
              "  <thead>\n",
              "    <tr style=\"text-align: right;\">\n",
              "      <th></th>\n",
              "      <th>Y</th>\n",
              "      <th>X</th>\n",
              "      <th>Y_previsto</th>\n",
              "    </tr>\n",
              "  </thead>\n",
              "  <tbody>\n",
              "    <tr>\n",
              "      <th>0</th>\n",
              "      <td>25461</td>\n",
              "      <td>27.30</td>\n",
              "      <td>30229.200544</td>\n",
              "    </tr>\n",
              "    <tr>\n",
              "      <th>1</th>\n",
              "      <td>28972</td>\n",
              "      <td>27.02</td>\n",
              "      <td>30006.633434</td>\n",
              "    </tr>\n",
              "    <tr>\n",
              "      <th>2</th>\n",
              "      <td>30814</td>\n",
              "      <td>24.82</td>\n",
              "      <td>28257.891852</td>\n",
              "    </tr>\n",
              "    <tr>\n",
              "      <th>3</th>\n",
              "      <td>29799</td>\n",
              "      <td>23.98</td>\n",
              "      <td>27590.190521</td>\n",
              "    </tr>\n",
              "    <tr>\n",
              "      <th>4</th>\n",
              "      <td>28900</td>\n",
              "      <td>23.82</td>\n",
              "      <td>27463.009315</td>\n",
              "    </tr>\n",
              "  </tbody>\n",
              "</table>\n",
              "</div>"
            ],
            "text/plain": [
              "       Y      X    Y_previsto\n",
              "0  25461  27.30  30229.200544\n",
              "1  28972  27.02  30006.633434\n",
              "2  30814  24.82  28257.891852\n",
              "3  29799  23.98  27590.190521\n",
              "4  28900  23.82  27463.009315"
            ]
          },
          "metadata": {},
          "execution_count": 14
        }
      ]
    },
    {
      "cell_type": "markdown",
      "metadata": {
        "id": "fjTiK_79SANc"
      },
      "source": [
        "### Utilizando nosso modelo estimado para fazer previsões.\n",
        "### Qual seria o consumo de cerveja para um dia com temperatura média de 42° C?"
      ]
    },
    {
      "cell_type": "code",
      "metadata": {
        "colab": {
          "base_uri": "https://localhost:8080/"
        },
        "id": "2GoPyfauSANc",
        "outputId": "85886ee8-5375-4044-adcf-0af41ca4d0db"
      },
      "source": [
        "regressao.predict([1, 42])[0]"
      ],
      "execution_count": 15,
      "outputs": [
        {
          "output_type": "execute_result",
          "data": {
            "text/plain": [
              "41913.97383816628"
            ]
          },
          "metadata": {},
          "execution_count": 15
        }
      ]
    },
    {
      "cell_type": "markdown",
      "metadata": {
        "id": "ERs5LDWoSANf"
      },
      "source": [
        "### Obtenha os resíduos da regressão"
      ]
    },
    {
      "cell_type": "code",
      "metadata": {
        "colab": {
          "base_uri": "https://localhost:8080/"
        },
        "id": "5Mfi4sFBSANg",
        "outputId": "b8589032-4251-41cd-d857-51e3e6fa5eb8"
      },
      "source": [
        "regressao.resid"
      ],
      "execution_count": 16,
      "outputs": [
        {
          "output_type": "execute_result",
          "data": {
            "text/plain": [
              "0     -4768.200544\n",
              "1     -1034.633434\n",
              "2      2556.108148\n",
              "3      2208.809479\n",
              "4      1436.990685\n",
              "          ...     \n",
              "360    4700.911828\n",
              "361    -430.047922\n",
              "362   -3452.960686\n",
              "363   -5056.495925\n",
              "364   -5764.198900\n",
              "Length: 365, dtype: float64"
            ]
          },
          "metadata": {},
          "execution_count": 16
        }
      ]
    },
    {
      "cell_type": "markdown",
      "metadata": {
        "id": "2sl2LwpuSANk"
      },
      "source": [
        "### Plote um gráfico de dispersão dos resíduos da regressão contra o $Y$ previsto"
      ]
    },
    {
      "cell_type": "code",
      "metadata": {
        "colab": {
          "base_uri": "https://localhost:8080/",
          "height": 456
        },
        "id": "FnlCBemoSANl",
        "outputId": "0f2cf227-066a-408f-88f9-fd507697df54"
      },
      "source": [
        "ax = sns.scatterplot(dados.X, regressao.resid)\n",
        "ax.figure.set_size_inches(12, 6)\n",
        "ax"
      ],
      "execution_count": 17,
      "outputs": [
        {
          "output_type": "stream",
          "name": "stderr",
          "text": [
            "/usr/local/lib/python3.7/dist-packages/seaborn/_decorators.py:43: FutureWarning: Pass the following variables as keyword args: x, y. From version 0.12, the only valid positional argument will be `data`, and passing other arguments without an explicit keyword will result in an error or misinterpretation.\n",
            "  FutureWarning\n"
          ]
        },
        {
          "output_type": "execute_result",
          "data": {
            "text/plain": [
              "<matplotlib.axes._subplots.AxesSubplot at 0x7f00fc4f5f10>"
            ]
          },
          "metadata": {},
          "execution_count": 17
        },
        {
          "output_type": "display_data",
          "data": {
            "image/png": "[encoded data removed]",
            "text/plain": [
              "<Figure size 864x432 with 1 Axes>"
            ]
          },
          "metadata": {
            "needs_background": "light"
          }
        }
      ]
    },
    {
      "cell_type": "markdown",
      "metadata": {
        "id": "Jg_WygGRSANq"
      },
      "source": [
        "### Obtenha o QQPlot dos resíduos"
      ]
    },
    {
      "cell_type": "code",
      "metadata": {
        "colab": {
          "base_uri": "https://localhost:8080/",
          "height": 280
        },
        "id": "3ht5zkGRSANq",
        "outputId": "5c252690-d7cc-46d8-fedb-00de0afc736a"
      },
      "source": [
        "fig = sm.qqplot(regressao.resid)"
      ],
      "execution_count": 20,
      "outputs": [
        {
          "output_type": "display_data",
          "data": {
            "image/png": "[encoded data removed]",
            "text/plain": [
              "<Figure size 432x288 with 1 Axes>"
            ]
          },
          "metadata": {
            "needs_background": "light"
          }
        }
      ]
    },
    {
      "cell_type": "markdown",
      "metadata": {
        "id": "B7EH-wPySANs"
      },
      "source": [
        "### **A partir dos outputs acima, qual conclusão podemos tirar sobre o comportamento dos resíduos?**"
      ]
    },
    {
      "cell_type": "markdown",
      "metadata": {
        "id": "R8BGdfv9ST7o"
      },
      "source": [
        "### Obtenha o R² da regressão pelo método da soma dos quadrados\n",
        "\n",
        "# $$R^2 = \\frac{SQR}{SQT}$$"
      ]
    },
    {
      "cell_type": "code",
      "metadata": {
        "id": "rgpCnrk6SANu",
        "colab": {
          "base_uri": "https://localhost:8080/"
        },
        "outputId": "9b8b55ef-7e84-4a32-e23f-2ad467070324"
      },
      "source": [
        "SQE = regressao.ssr\n",
        "SQE"
      ],
      "execution_count": 26,
      "outputs": [
        {
          "output_type": "execute_result",
          "data": {
            "text/plain": [
              "4718394688.067693"
            ]
          },
          "metadata": {},
          "execution_count": 26
        }
      ]
    },
    {
      "cell_type": "code",
      "metadata": {
        "id": "QkFSorjOSANv",
        "colab": {
          "base_uri": "https://localhost:8080/"
        },
        "outputId": "fe260c07-f9af-498e-d485-d0decd3e5aa0"
      },
      "source": [
        "SQR = regressao.ess\n",
        "SQR"
      ],
      "execution_count": 27,
      "outputs": [
        {
          "output_type": "execute_result",
          "data": {
            "text/plain": [
              "2325899486.7377863"
            ]
          },
          "metadata": {},
          "execution_count": 27
        }
      ]
    },
    {
      "cell_type": "code",
      "metadata": {
        "id": "RdCgKCvnSANx",
        "colab": {
          "base_uri": "https://localhost:8080/"
        },
        "outputId": "5fd4d2c5-1d7d-44e3-9db0-f46b0bcfb429"
      },
      "source": [
        "SQT = SQR + SQE\n",
        "SQT"
      ],
      "execution_count": 28,
      "outputs": [
        {
          "output_type": "execute_result",
          "data": {
            "text/plain": [
              "7044294174.805479"
            ]
          },
          "metadata": {},
          "execution_count": 28
        }
      ]
    },
    {
      "cell_type": "code",
      "metadata": {
        "id": "YQRZl990SANy",
        "colab": {
          "base_uri": "https://localhost:8080/"
        },
        "outputId": "b5217ddc-9683-4328-95e7-0dd070193973"
      },
      "source": [
        "R2 = SQR / SQT\n",
        "R2"
      ],
      "execution_count": 29,
      "outputs": [
        {
          "output_type": "execute_result",
          "data": {
            "text/plain": [
              "0.33018204933243206"
            ]
          },
          "metadata": {},
          "execution_count": 29
        }
      ]
    },
    {
      "cell_type": "code",
      "metadata": {
        "id": "a9cmu8SuSAN0",
        "colab": {
          "base_uri": "https://localhost:8080/"
        },
        "outputId": "8a4eae4e-842f-450e-9a3a-cfb7b7c71994"
      },
      "source": [
        "regressao.rsquared"
      ],
      "execution_count": 30,
      "outputs": [
        {
          "output_type": "execute_result",
          "data": {
            "text/plain": [
              "0.330182049332432"
            ]
          },
          "metadata": {},
          "execution_count": 30
        }
      ]
    }
  ]
}